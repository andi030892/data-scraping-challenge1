{
 "cells": [
  {
   "cell_type": "markdown",
   "metadata": {},
   "source": [
    "# Module 12 Challenge\n",
    "## Deliverable 2: Scrape and Analyze Mars Weather Data"
   ]
  },
  {
   "cell_type": "code",
   "execution_count": 1,
   "metadata": {},
   "outputs": [],
   "source": [
    "# Import relevant libraries\n",
    "from splinter import Browser\n",
    "from bs4 import BeautifulSoup as soup\n",
    "import matplotlib.pyplot as plt\n",
    "from  matplotlib.ticker import MultipleLocator\n",
    "import matplotlib.dates as mdates\n",
    "import pandas as pd\n",
    "import numpy as np\n"
   ]
  },
  {
   "cell_type": "code",
   "execution_count": 2,
   "metadata": {},
   "outputs": [],
   "source": [
    "# Select the browser to examine the page we'll define in the next step\n",
    "browser = Browser('chrome')\n"
   ]
  },
  {
   "cell_type": "markdown",
   "metadata": {},
   "source": [
    "### Step 1: Visit the Website\n",
    "\n",
    "Use automated browsing to visit the [Mars Temperature Data Site](https://static.bc-edx.com/data/web/mars_facts/temperature.html). Inspect the page to identify which elements to scrape.\n",
    "\n",
    "   > **Hint** To identify which elements to scrape, you might want to inspect the page by using Chrome DevTools to discover whether the table contains usable classes.\n"
   ]
  },
  {
   "cell_type": "code",
   "execution_count": 3,
   "metadata": {},
   "outputs": [],
   "source": [
    "# Visit the Mars news site using Splinter for examiation using Chrome DevTools (https://static.bc-edx.com/data/web/mars_facts/temperature.html)\n",
    "url = \"https://static.bc-edx.com/data/web/mars_facts/temperature.html\"\n",
    "browser.visit(url)\n"
   ]
  },
  {
   "cell_type": "markdown",
   "metadata": {},
   "source": [
    "### Step 2: Scrape the Table\n",
    "\n",
    "Create a Beautiful Soup object and use it to scrape the data in the HTML table.\n",
    "\n",
    "Note that this can also be achieved by using the Pandas `read_html` function. However, use Beautiful Soup here to continue sharpening your web scraping skills."
   ]
  },
  {
   "cell_type": "code",
   "execution_count": 4,
   "metadata": {},
   "outputs": [],
   "source": [
    "# Create a BeautifulSoup object and parse it\n",
    "html = browser.html\n",
    "mars_soup = soup(html, 'html.parser')\n"
   ]
  },
  {
   "cell_type": "code",
   "execution_count": 5,
   "metadata": {},
   "outputs": [],
   "source": [
    "# Extract all rows of data\n",
    "table = mars_soup.find('table', class_='table')\n"
   ]
  },
  {
   "cell_type": "markdown",
   "metadata": {},
   "source": [
    "### Step 3: Store the Data\n",
    "\n",
    "Assemble the scraped data into a Pandas DataFrame. The columns should have the same headings as the table on the website. Here’s an explanation of the column headings:\n",
    "\n",
    "* `id`: the identification number of a single transmission from the Curiosity rover\n",
    "* `terrestrial_date`: the date on Earth\n",
    "* `sol`: the number of elapsed sols (Martian days) since Curiosity landed on Mars\n",
    "* `ls`: the solar longitude\n",
    "* `month`: the Martian month\n",
    "* `min_temp`: the minimum temperature, in Celsius, of a single Martian day (sol)\n",
    "* `pressure`: The atmospheric pressure at Curiosity's location"
   ]
  },
  {
   "cell_type": "code",
   "execution_count": 6,
   "metadata": {},
   "outputs": [],
   "source": [
    "# Create empty lists of columns and rows\n",
    "\n",
    "# Create an empty list to hold column names\n",
    "columns = []\n",
    "# Create an empty list to hold the rows\n",
    "data = []\n",
    "\n",
    "# Loop through the scraped data to create a list of column names\n",
    "headings = table.find_all('th')\n",
    "for heading in headings:\n",
    "    columns.append(heading.get_text())\n",
    "\n",
    "# Loop through the scraped data to create a list of rows\n",
    "rows = table.find_all('tr', class_='data-row')\n",
    "for row in rows:\n",
    "    items = []\n",
    "    row_data = row.find_all('td')\n",
    "    for result in row_data:\n",
    "        items.append(result.text)\n",
    "    data.append(items)\n"
   ]
  },
  {
   "cell_type": "code",
   "execution_count": 7,
   "metadata": {},
   "outputs": [],
   "source": [
    "# Create a Pandas DataFrame by using the list of rows and the list of the column names\n",
    "mars_weather_df = pd.DataFrame(data, columns = columns)\n"
   ]
  },
  {
   "cell_type": "code",
   "execution_count": 8,
   "metadata": {},
   "outputs": [
    {
     "data": {
      "text/html": [
       "<div>\n",
       "<style scoped>\n",
       "    .dataframe tbody tr th:only-of-type {\n",
       "        vertical-align: middle;\n",
       "    }\n",
       "\n",
       "    .dataframe tbody tr th {\n",
       "        vertical-align: top;\n",
       "    }\n",
       "\n",
       "    .dataframe thead th {\n",
       "        text-align: right;\n",
       "    }\n",
       "</style>\n",
       "<table border=\"1\" class=\"dataframe\">\n",
       "  <thead>\n",
       "    <tr style=\"text-align: right;\">\n",
       "      <th></th>\n",
       "      <th>id</th>\n",
       "      <th>terrestrial_date</th>\n",
       "      <th>sol</th>\n",
       "      <th>ls</th>\n",
       "      <th>month</th>\n",
       "      <th>min_temp</th>\n",
       "      <th>pressure</th>\n",
       "    </tr>\n",
       "  </thead>\n",
       "  <tbody>\n",
       "    <tr>\n",
       "      <th>0</th>\n",
       "      <td>2</td>\n",
       "      <td>2012-08-16</td>\n",
       "      <td>10</td>\n",
       "      <td>155</td>\n",
       "      <td>6</td>\n",
       "      <td>-75.0</td>\n",
       "      <td>739.0</td>\n",
       "    </tr>\n",
       "    <tr>\n",
       "      <th>1</th>\n",
       "      <td>13</td>\n",
       "      <td>2012-08-17</td>\n",
       "      <td>11</td>\n",
       "      <td>156</td>\n",
       "      <td>6</td>\n",
       "      <td>-76.0</td>\n",
       "      <td>740.0</td>\n",
       "    </tr>\n",
       "    <tr>\n",
       "      <th>2</th>\n",
       "      <td>24</td>\n",
       "      <td>2012-08-18</td>\n",
       "      <td>12</td>\n",
       "      <td>156</td>\n",
       "      <td>6</td>\n",
       "      <td>-76.0</td>\n",
       "      <td>741.0</td>\n",
       "    </tr>\n",
       "    <tr>\n",
       "      <th>3</th>\n",
       "      <td>35</td>\n",
       "      <td>2012-08-19</td>\n",
       "      <td>13</td>\n",
       "      <td>157</td>\n",
       "      <td>6</td>\n",
       "      <td>-74.0</td>\n",
       "      <td>732.0</td>\n",
       "    </tr>\n",
       "    <tr>\n",
       "      <th>4</th>\n",
       "      <td>46</td>\n",
       "      <td>2012-08-20</td>\n",
       "      <td>14</td>\n",
       "      <td>157</td>\n",
       "      <td>6</td>\n",
       "      <td>-74.0</td>\n",
       "      <td>740.0</td>\n",
       "    </tr>\n",
       "  </tbody>\n",
       "</table>\n",
       "</div>"
      ],
      "text/plain": [
       "   id terrestrial_date sol   ls month min_temp pressure\n",
       "0   2       2012-08-16  10  155     6    -75.0    739.0\n",
       "1  13       2012-08-17  11  156     6    -76.0    740.0\n",
       "2  24       2012-08-18  12  156     6    -76.0    741.0\n",
       "3  35       2012-08-19  13  157     6    -74.0    732.0\n",
       "4  46       2012-08-20  14  157     6    -74.0    740.0"
      ]
     },
     "execution_count": 8,
     "metadata": {},
     "output_type": "execute_result"
    }
   ],
   "source": [
    "# Confirm DataFrame was created successfully\n",
    "mars_weather_df.head() # default first 5 rows\n"
   ]
  },
  {
   "cell_type": "markdown",
   "metadata": {},
   "source": [
    "### Step 4: Prepare Data for Analysis\n",
    "\n",
    "Examine the data types that are currently associated with each column. If necessary, cast (or convert) the data to the appropriate `datetime`, `int`, or `float` data types.\n",
    "\n",
    "  > **Hint** You can use the Pandas `astype` and `to_datetime` methods to accomplish this task.\n"
   ]
  },
  {
   "cell_type": "code",
   "execution_count": 9,
   "metadata": {},
   "outputs": [
    {
     "data": {
      "text/plain": [
       "id                  object\n",
       "terrestrial_date    object\n",
       "sol                 object\n",
       "ls                  object\n",
       "month               object\n",
       "min_temp            object\n",
       "pressure            object\n",
       "dtype: object"
      ]
     },
     "execution_count": 9,
     "metadata": {},
     "output_type": "execute_result"
    }
   ],
   "source": [
    "# Examine data type of each column\n",
    "mars_weather_df.dtypes\n"
   ]
  },
  {
   "cell_type": "code",
   "execution_count": 10,
   "metadata": {},
   "outputs": [],
   "source": [
    "# Change data types for data analysis\n",
    "mars_weather_df[mars_weather_df.columns[0]] = mars_weather_df[mars_weather_df.columns[0]].astype(int) # id\n",
    "mars_weather_df[mars_weather_df.columns[1]] = pd.to_datetime(mars_weather_df[mars_weather_df.columns[1]]) # terrestrial_date\n",
    "mars_weather_df[mars_weather_df.columns[2]] = mars_weather_df[mars_weather_df.columns[2]].astype(int) # sol\n",
    "mars_weather_df[mars_weather_df.columns[3]] = mars_weather_df[mars_weather_df.columns[3]].astype(int) # ls\n",
    "mars_weather_df[mars_weather_df.columns[4]] = mars_weather_df[mars_weather_df.columns[4]].astype(int)  # min_temp\n",
    "mars_weather_df[mars_weather_df.columns[5]] = mars_weather_df[mars_weather_df.columns[5]].astype(float) # min_temp\n",
    "mars_weather_df[mars_weather_df.columns[6]] = mars_weather_df[mars_weather_df.columns[6]].astype(float) # pressure\n"
   ]
  },
  {
   "cell_type": "code",
   "execution_count": 11,
   "metadata": {},
   "outputs": [
    {
     "data": {
      "text/plain": [
       "id                           int32\n",
       "terrestrial_date    datetime64[ns]\n",
       "sol                          int32\n",
       "ls                           int32\n",
       "month                        int32\n",
       "min_temp                   float64\n",
       "pressure                   float64\n",
       "dtype: object"
      ]
     },
     "execution_count": 11,
     "metadata": {},
     "output_type": "execute_result"
    }
   ],
   "source": [
    "# Confirm type changes were successful by examining data types again\n",
    "mars_weather_df.dtypes\n"
   ]
  },
  {
   "cell_type": "markdown",
   "metadata": {},
   "source": [
    "### Step 5: Analyze the Data\n",
    "\n",
    "Analyze your dataset by using Pandas functions to answer the following questions:\n",
    "\n",
    "1. How many months exist on Mars?\n",
    "2. How many Martian (and not Earth) days worth of data exist in the scraped dataset?\n",
    "3. What are the coldest and the warmest months on Mars (at the location of Curiosity)? To answer this question:\n",
    "    * Find the average the minimum daily temperature for all of the months.\n",
    "    * Plot the results as a bar chart.\n",
    "4. Which months have the lowest and the highest atmospheric pressure on Mars? To answer this question:\n",
    "    * Find the average the daily atmospheric pressure of all the months.\n",
    "    * Plot the results as a bar chart.\n",
    "5. About how many terrestrial (Earth) days exist in a Martian year? To answer this question:\n",
    "    * Consider how many days elapse on Earth in the time that Mars circles the Sun once.\n",
    "    * Visually estimate the result by plotting the daily minimum temperature.\n"
   ]
  },
  {
   "cell_type": "code",
   "execution_count": 12,
   "metadata": {},
   "outputs": [
    {
     "name": "stdout",
     "output_type": "stream",
     "text": [
      "month\n",
      "1     174\n",
      "2     178\n",
      "3     192\n",
      "4     194\n",
      "5     149\n",
      "6     147\n",
      "7     142\n",
      "8     141\n",
      "9     134\n",
      "10    112\n",
      "11    138\n",
      "12    166\n",
      "Name: month, dtype: int64\n",
      "\n",
      "The number of months on Mars is: 12\n"
     ]
    }
   ],
   "source": [
    "# 1. How many months are there on Mars?\n",
    "\n",
    "# Group the data by month and calculate the total number of sols (i.e., Martian days)\n",
    "group_by_month = mars_weather_df.groupby('month')\n",
    "total_sols_by_month = group_by_month['month'].count()\n",
    "\n",
    "# Print the list of months with the total number of sols\n",
    "print(total_sols_by_month)\n",
    "\n",
    "# Create a line space for readability\n",
    "print()\n",
    "\n",
    "# Print the answer to the question\n",
    "print(f\"The number of months on Mars is: {mars_weather_df['month'].max()}\")\n"
   ]
  },
  {
   "cell_type": "code",
   "execution_count": 13,
   "metadata": {},
   "outputs": [
    {
     "name": "stdout",
     "output_type": "stream",
     "text": [
      "The number of Martian days (sols) for which data was collected is: 1867\n"
     ]
    }
   ],
   "source": [
    "# 2. How many Martian days' (sols) worth of data are there?\n",
    "\n",
    "# Print the answer to the question\n",
    "print(f\"The number of Martian days (sols) for which data was collected is: {mars_weather_df['sol'].count()}\") \n"
   ]
  },
  {
   "cell_type": "code",
   "execution_count": 14,
   "metadata": {},
   "outputs": [
    {
     "name": "stdout",
     "output_type": "stream",
     "text": [
      "month\n",
      "1    -77.160920\n",
      "2    -79.932584\n",
      "3    -83.307292\n",
      "4    -82.747423\n",
      "5    -79.308725\n",
      "6    -75.299320\n",
      "7    -72.281690\n",
      "8    -68.382979\n",
      "9    -69.171642\n",
      "10   -71.982143\n",
      "11   -71.985507\n",
      "12   -74.451807\n",
      "Name: min_temp, dtype: float64\n"
     ]
    }
   ],
   "source": [
    "# 3. What is the average low temperature on Mars by month?\n",
    "\n",
    "# Group the data by month and calculate the average low temperature\n",
    "group_by_month = mars_weather_df.groupby('month')\n",
    "avg_min_temp_by_month = group_by_month['min_temp'].mean()\n",
    "\n",
    "# Print the list of months with the average low temperatures\n",
    "print(avg_min_temp_by_month)\n"
   ]
  },
  {
   "cell_type": "code",
   "execution_count": 15,
   "metadata": {},
   "outputs": [
    {
     "data": {
      "image/png": "[encoded data removed]",
      "text/plain": [
       "<Figure size 700x400 with 1 Axes>"
      ]
     },
     "metadata": {},
     "output_type": "display_data"
    }
   ],
   "source": [
    "# Plot the average temperature by month\n",
    "\n",
    "fig, ax = plt.subplots(figsize=[7, 4]) \n",
    "ax.bar(avg_min_temp_by_month.index, avg_min_temp_by_month, width=0.3, color='#1f77b4') # common blue color for visualizations\n",
    "plt.xticks(ticks=range(1, 13, 1), rotation=90)\n",
    "plt.xlabel('Month')\n",
    "plt.ylabel('Temperature in Celsius')\n",
    "plt.tight_layout() # automatically adjusts subplot params so that the subplot(s) fits in to the figure area\n",
    "\n",
    "# Save the plot as a PNG file\n",
    "plt.savefig(\"Resources/mars_average_temp_by_month.png\", dpi=300)\n",
    "plt.show()\n"
   ]
  },
  {
   "cell_type": "code",
   "execution_count": 16,
   "metadata": {},
   "outputs": [
    {
     "data": {
      "image/png": "[encoded data removed]",
      "text/plain": [
       "<Figure size 700x400 with 1 Axes>"
      ]
     },
     "metadata": {},
     "output_type": "display_data"
    },
    {
     "name": "stdout",
     "output_type": "stream",
     "text": [
      "The coldest month on Mars is: month 3\n",
      "The hottest month on Mars is: month 8\n"
     ]
    }
   ],
   "source": [
    "# Identify the coldest and hottest months in Curiosity's location\n",
    "\n",
    "# Group the data by month and calculate the average minimum temperature\n",
    "group_by_month = mars_weather_df.groupby('month')\n",
    "avg_min_temp_by_month = group_by_month['min_temp'].mean()\n",
    "\n",
    "# Find the coldest and hottest months\n",
    "coldest_month = avg_min_temp_by_month.idxmin()\n",
    "hottest_month = avg_min_temp_by_month.idxmax()\n",
    "\n",
    "# Sort the data by temperature in ascending order\n",
    "sorted_avg_min_temp = avg_min_temp_by_month.sort_values()\n",
    "\n",
    "# Plot the average temperature by month\n",
    "fig, ax = plt.subplots(figsize=[7, 4])\n",
    "ax.bar(sorted_avg_min_temp.index, sorted_avg_min_temp, width=0.3, color='#1f77b4') # common blue color for visualizations\n",
    "plt.xticks(ticks=sorted_avg_min_temp.index, rotation=90)\n",
    "plt.xlabel('Month')\n",
    "plt.ylabel('Temperature in Celsius')\n",
    "plt.tight_layout() # automatically adjusts subplot params so that the subplot(s) fits in to the figure area\n",
    "\n",
    "# Add annotations for coldest and hottest months to the plot\n",
    "# Annotation for coldest month\n",
    "ax.annotate('Coldest', xy=(coldest_month, sorted_avg_min_temp[coldest_month]),\n",
    "            xytext=(coldest_month, sorted_avg_min_temp[coldest_month] - 20),\n",
    "            arrowprops=dict(color='red', arrowstyle='->'),\n",
    "            ha='center', color='red', weight='bold') # ha = horizontal alignment\n",
    "\n",
    "# Annotation for hottest month\n",
    "ax.annotate('Hottest', xy=(hottest_month, sorted_avg_min_temp[hottest_month]),\n",
    "            xytext=(hottest_month, sorted_avg_min_temp[hottest_month] - 30),\n",
    "            arrowprops=dict(color='red', arrowstyle='->'),\n",
    "            ha='center', color='red', weight='bold') # ha = horizontal alignment\n",
    "\n",
    "# Save the plot as a PNG file\n",
    "plt.savefig(\"Resources/mars_temp_extremes_by_month.png\", dpi=300)\n",
    "plt.show()\n",
    "\n",
    "# Print the coldest and hottest months\n",
    "print(f\"The coldest month on Mars is: month {coldest_month}\")\n",
    "print(f\"The hottest month on Mars is: month {hottest_month}\")\n"
   ]
  },
  {
   "cell_type": "code",
   "execution_count": 17,
   "metadata": {},
   "outputs": [
    {
     "name": "stdout",
     "output_type": "stream",
     "text": [
      "month\n",
      "1     862.488506\n",
      "2     889.455056\n",
      "3     877.322917\n",
      "4     806.329897\n",
      "5     748.557047\n",
      "6     745.054422\n",
      "7     795.105634\n",
      "8     873.829787\n",
      "9     913.305970\n",
      "10    887.312500\n",
      "11    857.014493\n",
      "12    842.156627\n",
      "Name: pressure, dtype: float64\n"
     ]
    }
   ],
   "source": [
    "# 4. What is the average pressure by Martian month?\n",
    "\n",
    "# Group the data by month and calculate the average pressure\n",
    "group_by_month = mars_weather_df.groupby('month') \n",
    "avg_pressure_by_month = group_by_month['pressure'].mean() \n",
    "\n",
    "# Print the list of months with the average pressure\n",
    "print(avg_pressure_by_month)\n"
   ]
  },
  {
   "cell_type": "code",
   "execution_count": 18,
   "metadata": {},
   "outputs": [
    {
     "data": {
      "image/png": "[encoded data removed]",
      "text/plain": [
       "<Figure size 700x400 with 1 Axes>"
      ]
     },
     "metadata": {},
     "output_type": "display_data"
    },
    {
     "name": "stdout",
     "output_type": "stream",
     "text": [
      "The highest average pressure on Mars is: 913.305970 Pa in month 9\n",
      "The lowest average pressure on Mars is: 745.054422 Pa in month 6\n"
     ]
    }
   ],
   "source": [
    "# Plot the average pressure by month\n",
    "\n",
    "# Plot the average pressure by month\n",
    "fig, ax = plt.subplots(figsize=[7, 4])\n",
    "bars = ax.bar(avg_pressure_by_month.index, avg_pressure_by_month, width=0.3, color='#1f77b4') # common blue color for visualizations\n",
    "plt.xticks(ticks=range(1, 13, 1), rotation=90)\n",
    "plt.xlabel('Month')\n",
    "plt.ylabel('Atmospheric Pressure')\n",
    "plt.tight_layout() # automatically adjusts subplot params so that the subplot(s) fits in to the figure area\n",
    "\n",
    "# Find the highest and lowest pressure values\n",
    "highest_pressure = avg_pressure_by_month.max()\n",
    "lowest_pressure = avg_pressure_by_month.min()\n",
    "\n",
    "# Add for highest pressure\n",
    "ax.annotate(f'Highest: {highest_pressure:.6f}', xy=(avg_pressure_by_month.idxmax(), highest_pressure),\n",
    "            xytext=(0, 10),\n",
    "            textcoords='offset points',\n",
    "            ha='center', va='bottom',\n",
    "            arrowprops=dict(arrowstyle='->', color='red'),\n",
    "            color='red', weight='bold')\n",
    "\n",
    "# Add for lowest pressure\n",
    "ax.annotate(f'Lowest: {lowest_pressure:.6f}', xy=(avg_pressure_by_month.idxmin(), lowest_pressure),\n",
    "            xytext=(0, 10),\n",
    "            textcoords='offset points',\n",
    "            ha='center', va='bottom',\n",
    "            arrowprops=dict(arrowstyle='->', color='red'),\n",
    "            color='red', weight='bold')\n",
    "\n",
    "# Save the plot as a PNG file\n",
    "plt.savefig(\"Resources/mars_average_pressure_by_month.png\", dpi=300)\n",
    "plt.show()\n",
    "\n",
    "# Print the highest and lowest pressure values\n",
    "# Note: the f-string formatting is used to round the values to 6 decimal places, which is common to the rest of the data displayed in this report\n",
    "print(f\"The highest average pressure on Mars is: {highest_pressure:.6f} Pa in month {avg_pressure_by_month.idxmax()}\")\n",
    "print(f\"The lowest average pressure on Mars is: {lowest_pressure:.6f} Pa in month {avg_pressure_by_month.idxmin()}\")\n"
   ]
  },
  {
   "cell_type": "code",
   "execution_count": 19,
   "metadata": {},
   "outputs": [
    {
     "data": {
      "image/png": "[encoded data removed]",
      "text/plain": [
       "<Figure size 600x300 with 1 Axes>"
      ]
     },
     "metadata": {},
     "output_type": "display_data"
    },
    {
     "name": "stdout",
     "output_type": "stream",
     "text": [
      "The author's estimate from the highest points in the middle of the plot above is: 1,375 - 700 = 675 terrestrial days in a Martian year\n",
      "\n",
      "The number of terrestrial days in a Martian year according to NASA is: 687\n",
      "\n",
      "The number of terrestrial days in a Martian year according to the data is: 694.291667\n",
      "\n"
     ]
    }
   ],
   "source": [
    "# 5. How many terrestrial (earth) days are there in a Martian year?\n",
    "\n",
    "# Plot the minimum temperature by sol, as part of the process to answer this question\n",
    "fig, ax = plt.subplots(figsize=[6, 3])\n",
    "plt.plot(range(len(mars_weather_df)), mars_weather_df['min_temp'], color='#1f77b4') # common blue color for visualizations\n",
    "plt.xticks(ticks=range(0, len(mars_weather_df), 250), labels=range(0, len(mars_weather_df), 250))\n",
    "plt.xlabel('Number of terrestrial days')\n",
    "plt.ylabel('Minimum temperature')\n",
    "plt.tight_layout() # automatically adjusts subplot params so that the subplot(s) fits in to the figure area\n",
    "\n",
    "# Add red vertical lines for highest points in specific x-axis ranges, using the center of the plot to obtain a full temperature range\n",
    "# Do this for the first half of the plot\n",
    "highest_points = mars_weather_df['min_temp'][(mars_weather_df.index >= 650) & (mars_weather_df.index <= 850)].idxmax()\n",
    "ax.axvline(x=highest_points, color='red', linestyle='--') # these intervals fall a little a little lower than those noted below\n",
    "# Do the same for the second half of the plot\n",
    "highest_points = mars_weather_df['min_temp'][(mars_weather_df.index >= 1325) & (mars_weather_df.index <= 1525)].idxmax()\n",
    "ax.axvline(x=highest_points, color='red', linestyle='--')\n",
    "\n",
    "# Save the plot as a PNG file\n",
    "plt.savefig(\"Resources/mars_days_in_terrestrial_year.png\", dpi=300)\n",
    "\n",
    "# Show the plot\n",
    "plt.show()\n",
    "\n",
    "# Find the number of months in the dataset\n",
    "mars_months = np.unique(mars_weather_df['month'])\n",
    "\n",
    "# Calculate the number of sols in a Martian year from the data\n",
    "sols1 = 0\n",
    "for mm in mars_months:\n",
    "    sol_duration = mars_weather_df.loc[mars_weather_df['month'] == mm, 'sol'].max() - mars_weather_df.loc[mars_weather_df['month'] == mm, 'sol'].min()\n",
    "    sols1 += sol_duration\n",
    "\n",
    "# Calculate the number of terrestrial days in a Martian year\n",
    "martian_year = sols1 / 24.0  # Assuming an average of 24 hours per terrestrial day\n",
    "\n",
    "# Compare to NASA's estimate as a reference point\n",
    "'''1 Martial year = 687 Earth days according to NASA (https://solarsystem.nasa.gov/planets/mars/in-depth/#:~:text=Martian%20days%20are%20called%20sols,its%20orbit%20around%20the%20Sun.)'''\n",
    "\n",
    "# Print the number of terrestrial days in a Martian year\n",
    "print(f\"The author's estimate from the highest points in the middle of the plot above is: 1,375 - 700 = {1375 - 700} terrestrial days in a Martian year\\n\")\n",
    "print(f\"The number of terrestrial days in a Martian year according to NASA is: {687}\\n\")\n",
    "print(f\"The number of terrestrial days in a Martian year according to the data is: {martian_year:.6f}\\n\")"
   ]
  },
  {
   "cell_type": "markdown",
   "metadata": {},
   "source": [
    "On average, the third month has the coldest minimum temperature on Mars, and the eighth month is the warmest. But it is always very cold there in human terms!\n",
    "\n"
   ]
  },
  {
   "cell_type": "markdown",
   "metadata": {},
   "source": [
    "Atmospheric pressure is, on average, lowest in the sixth month and highest in the ninth."
   ]
  },
  {
   "cell_type": "markdown",
   "metadata": {},
   "source": [
    "The distance from peak to peak is roughly 1425-750, or 675 days. A year on Mars appears to be about 675 days from the plot. Internet search confirms that a Mars year is equivalent to 687 earth days."
   ]
  },
  {
   "cell_type": "markdown",
   "metadata": {},
   "source": [
    "### Step 6: Save the Data\n",
    "\n",
    "Export the DataFrame to a CSV file."
   ]
  },
  {
   "cell_type": "code",
   "execution_count": 20,
   "metadata": {},
   "outputs": [],
   "source": [
    "# Write the dataframe data a to CSV file\n",
    "mars_weather_df.to_csv(\"Resources/mars_weather_data_dataframe.csv\", index=False) # index=False to avoid writing the index column to the CSV file\n"
   ]
  },
  {
   "cell_type": "code",
   "execution_count": 21,
   "metadata": {},
   "outputs": [],
   "source": [
    "# Conclude with resource cleanup\n",
    "browser.quit()\n"
   ]
  }
 ],
 "metadata": {
  "kernelspec": {
   "display_name": "Python 3 (ipykernel)",
   "language": "python",
   "name": "python3"
  },
  "language_info": {
   "codemirror_mode": {
    "name": "ipython",
    "version": 3
   },
   "file_extension": ".py",
   "mimetype": "text/x-python",
   "name": "python",
   "nbconvert_exporter": "python",
   "pygments_lexer": "ipython3",
   "version": "3.10.9"
  },
  "vscode": {
   "interpreter": {
    "hash": "31f2aee4e71d21fbe5cf8b01ff0e069b9275f58929596ceb00d14d90e3e16cd6"
   }
  }
 },
 "nbformat": 4,
 "nbformat_minor": 4
}
